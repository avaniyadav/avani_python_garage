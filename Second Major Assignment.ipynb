{
 "cells": [
  {
   "cell_type": "markdown",
   "metadata": {},
   "source": [
    "# Question 1 \n",
    "\n",
    "Module v/s Library"
   ]
  },
  {
   "cell_type": "markdown",
   "metadata": {},
   "source": [
    "## Module\n",
    "\n",
    "Modules in Python are simply Python files with a .py extension\n",
    "The name of the module will be the name of the file. A Python module can have a set of functions, classes or variables defined and implemented. \n",
    "There are actually three different ways to define a module in Python:\n",
    "\n",
    "   * A module can be written in Python itself.\n",
    "   * A module can be written in C and loaded dynamically at run-time, like the re (regular expression) module.\n",
    "   * A built-in module is intrinsically contained in the interpreter, like the itertools module.\n",
    "\n",
    "A module’s contents are accessed the same way in all three cases: with the import statement.\n",
    "\n",
    "Here, the focus will mostly be on modules that are written in Python. The cool thing about modules written in Python is that they are exceedingly straightforward to build. All you need to do is create a file that contains legitimate Python code and then give the file a name with a .py extension. That’s it! No special syntax or voodoo is necessary.\n",
    "\n",
    "For example, In the example above, we will have two files, we will have:"
   ]
  },
  {
   "cell_type": "code",
   "execution_count": 39,
   "metadata": {},
   "outputs": [],
   "source": [
    "# A simple module, calc.py \n",
    "def add(x, y): \n",
    "    return (x+y) \n",
    "  \n",
    "def subtract(x, y): \n",
    "    return (x-y) \n"
   ]
  },
  {
   "cell_type": "markdown",
   "metadata": {},
   "source": [
    "### The import statement\n",
    "We can use any Python source file as a module by executing an import statement in some other Python source file.\n",
    "When interpreter encounters an import statement, it imports the module if the module is present in the search path. A search path is a list of directories that the interpreter searches for importing a module. For example, to import the module calc.py, we need to put the following command at the top of the script :"
   ]
  },
  {
   "cell_type": "code",
   "execution_count": null,
   "metadata": {},
   "outputs": [],
   "source": [
    "# importing  module calc.py \n",
    "import calc \n",
    "  \n",
    "print add(10, 2) \n",
    "\n"
   ]
  },
  {
   "cell_type": "markdown",
   "metadata": {},
   "source": [
    "### The from import Statement\n",
    "\n",
    "Python’s from statement lets you import specific attributes from a module. The from .. import .. has the following syntax :"
   ]
  },
  {
   "cell_type": "code",
   "execution_count": null,
   "metadata": {},
   "outputs": [],
   "source": [
    "# importing sqrt() and factorial from the  \n",
    "# module math \n",
    "from math import sqrt, factorial \n",
    "  \n",
    "# if we simply do \"import math\", then \n",
    "# math.sqrt(16) and math.factorial() \n",
    "# are required. \n",
    "print sqrt(16) \n",
    "print factorial(6) \n"
   ]
  },
  {
   "cell_type": "markdown",
   "metadata": {},
   "source": [
    "## Libraries\n",
    "\n",
    "Python library is a collection of functions and methods that allows you to perform many actions without writing your code. For example, the Python imaging library (PIL). is one of the core libraries for image manipulation in Python. Pillow is an actively developed fork of PIL. Open-CV Python is a library of Python aimed at real-time computer vision and image processing. It makes use of Numpy, another library for numerical operations.\n",
    "\n",
    "Each library in Python contains a huge number of useful modules that you can import for your every day programming.\n"
   ]
  },
  {
   "cell_type": "markdown",
   "metadata": {},
   "source": [
    "## Question 2: \n",
    "How to make a matrix which has each of its elements as 2?"
   ]
  },
  {
   "cell_type": "code",
   "execution_count": 41,
   "metadata": {
    "scrolled": true
   },
   "outputs": [
    {
     "data": {
      "text/plain": [
       "array([[2., 2., 2., 2., 2., 2., 2.],\n",
       "       [2., 2., 2., 2., 2., 2., 2.],\n",
       "       [2., 2., 2., 2., 2., 2., 2.],\n",
       "       [2., 2., 2., 2., 2., 2., 2.],\n",
       "       [2., 2., 2., 2., 2., 2., 2.],\n",
       "       [2., 2., 2., 2., 2., 2., 2.],\n",
       "       [2., 2., 2., 2., 2., 2., 2.]])"
      ]
     },
     "execution_count": 41,
     "metadata": {},
     "output_type": "execute_result"
    }
   ],
   "source": [
    "import numpy as np\n",
    "x= 2* np.ones((7,7))\n",
    "x"
   ]
  },
  {
   "cell_type": "markdown",
   "metadata": {},
   "source": [
    "## Question 3: \n",
    "Suppose we have an array -- [0.26,0.34,0.49] how can this array be converted into --[5.26,5.34,5.49]"
   ]
  },
  {
   "cell_type": "code",
   "execution_count": 44,
   "metadata": {},
   "outputs": [
    {
     "data": {
      "text/plain": [
       "array([5.11626704, 5.17595352, 5.92027208])"
      ]
     },
     "execution_count": 44,
     "metadata": {},
     "output_type": "execute_result"
    }
   ],
   "source": [
    "number = np.random.rand(3)\n",
    "five_num = [5,5,5]\n",
    "final=np.array(five_num)\n",
    "\n",
    "number+ five_num\n",
    "\n",
    "\n"
   ]
  },
  {
   "cell_type": "markdown",
   "metadata": {},
   "source": [
    "## Question 4: \n",
    "\n",
    "Explain functionality of the following:\n",
    "\n",
    "### 1) TILE  : \n",
    "About :\n",
    "\n",
    "numpy.tile(arr, reps) : constructs a new array by repeating array – ‘arr’, the number of times we want to \n",
    "repeat as per repetitions. The resulted array will have dimensions max(arr.ndim, repetitions) where, repetitions is\n",
    "the length of repetitions.\n",
    "        \n",
    "         If arr.ndim > repetitions, reps is promoted to arr.ndim by pre-pending 1’s to it.\n",
    "         If arr.ndim < repetitions, reps is promoted to arr.ndim by pre-pending new axis."
   ]
  },
  {
   "cell_type": "markdown",
   "metadata": {},
   "source": [
    "### array       : [array_like]Input array. \n",
    "### repetitions : No. of repetitions of arr along each axis. "
   ]
  },
  {
   "cell_type": "code",
   "execution_count": 47,
   "metadata": {},
   "outputs": [
    {
     "data": {
      "text/plain": [
       "array([1, 2, 3, 4, 1, 2, 3, 4, 1, 2, 3, 4, 1, 2, 3, 4, 1, 2, 3, 4, 1, 2,\n",
       "       3, 4, 1, 2, 3, 4, 1, 2, 3, 4, 1, 2, 3, 4, 1, 2, 3, 4])"
      ]
     },
     "execution_count": 47,
     "metadata": {},
     "output_type": "execute_result"
    }
   ],
   "source": [
    "repeat_array = np.array([1,2,3,4])\n",
    "np.tile(repeat_array, 10)\n",
    "\n"
   ]
  },
  {
   "cell_type": "markdown",
   "metadata": {},
   "source": [
    "### 2) DIAG :\n",
    "Extract a diagonal or construct a diagonal array.\n",
    "\n",
    "#### Parameters:\t\n",
    "\n",
    "v : array_like\n",
    "\n",
    "    If v is a 2-D array, return a copy of its k-th diagonal. If v is a 1-D array, return a 2-D array with v on the k-th    diagonal.\n",
    "\n",
    "k : int, optional\n",
    "\n",
    "    Diagonal in question. The default is 0. Use k>0 for diagonals above the main diagonal, and k<0 for diagonals below the main diagonal.\n",
    "\n",
    "#### Returns:\t\n",
    "\n",
    "out : ndarray\n",
    "\n",
    "    The extracted diagonal or constructed diagonal array.\n"
   ]
  },
  {
   "cell_type": "code",
   "execution_count": 48,
   "metadata": {},
   "outputs": [
    {
     "data": {
      "text/plain": [
       "array([[0, 1, 2],\n",
       "       [3, 4, 5],\n",
       "       [6, 7, 8]])"
      ]
     },
     "execution_count": 48,
     "metadata": {},
     "output_type": "execute_result"
    }
   ],
   "source": [
    "x = np.arange(9).reshape((3,3))\n",
    "x"
   ]
  },
  {
   "cell_type": "code",
   "execution_count": 49,
   "metadata": {},
   "outputs": [
    {
     "data": {
      "text/plain": [
       "array([0, 4, 8])"
      ]
     },
     "execution_count": 49,
     "metadata": {},
     "output_type": "execute_result"
    }
   ],
   "source": [
    "np.diag(x)"
   ]
  },
  {
   "cell_type": "code",
   "execution_count": 50,
   "metadata": {},
   "outputs": [
    {
     "data": {
      "text/plain": [
       "array([1, 5])"
      ]
     },
     "execution_count": 50,
     "metadata": {},
     "output_type": "execute_result"
    }
   ],
   "source": [
    "np.diag(x, k=1)"
   ]
  },
  {
   "cell_type": "code",
   "execution_count": 51,
   "metadata": {},
   "outputs": [
    {
     "data": {
      "text/plain": [
       "array([3, 7])"
      ]
     },
     "execution_count": 51,
     "metadata": {},
     "output_type": "execute_result"
    }
   ],
   "source": [
    "np.diag(x, k=-1)"
   ]
  },
  {
   "cell_type": "code",
   "execution_count": 52,
   "metadata": {},
   "outputs": [
    {
     "data": {
      "text/plain": [
       "array([[0, 0, 0],\n",
       "       [0, 4, 0],\n",
       "       [0, 0, 8]])"
      ]
     },
     "execution_count": 52,
     "metadata": {},
     "output_type": "execute_result"
    }
   ],
   "source": [
    "np.diag(np.diag(x))"
   ]
  },
  {
   "cell_type": "code",
   "execution_count": 56,
   "metadata": {},
   "outputs": [],
   "source": [
    "array_1=[11,22,33,44,55,66,77,88,99,100]"
   ]
  },
  {
   "cell_type": "code",
   "execution_count": 57,
   "metadata": {},
   "outputs": [
    {
     "data": {
      "text/plain": [
       "array([[ 11,   0,   0,   0,   0,   0,   0,   0,   0,   0],\n",
       "       [  0,  22,   0,   0,   0,   0,   0,   0,   0,   0],\n",
       "       [  0,   0,  33,   0,   0,   0,   0,   0,   0,   0],\n",
       "       [  0,   0,   0,  44,   0,   0,   0,   0,   0,   0],\n",
       "       [  0,   0,   0,   0,  55,   0,   0,   0,   0,   0],\n",
       "       [  0,   0,   0,   0,   0,  66,   0,   0,   0,   0],\n",
       "       [  0,   0,   0,   0,   0,   0,  77,   0,   0,   0],\n",
       "       [  0,   0,   0,   0,   0,   0,   0,  88,   0,   0],\n",
       "       [  0,   0,   0,   0,   0,   0,   0,   0,  99,   0],\n",
       "       [  0,   0,   0,   0,   0,   0,   0,   0,   0, 100]])"
      ]
     },
     "execution_count": 57,
     "metadata": {},
     "output_type": "execute_result"
    }
   ],
   "source": [
    "np.diag(array_1)"
   ]
  },
  {
   "cell_type": "markdown",
   "metadata": {},
   "source": [
    "### 3) INVERSE\n",
    "\n",
    "Inverse of a matrix is computed from scipy.linalg.inv() function.\n",
    "\n",
    "\n",
    "#### Parameters:\t\n",
    "\n",
    "a : (…, M, M) array_like\n",
    "\n",
    "    Matrix to be inverted.\n",
    "\n",
    "#### Returns:\t\n",
    "\n",
    "ainv : (…, M, M) ndarray or matrix\n",
    "\n",
    "    (Multiplicative) inverse of the matrix a.\n",
    "\n",
    "#### Raises:\t\n",
    "\n",
    "LinAlgError\n",
    "\n",
    "    If a is not square or inversion fails.\n"
   ]
  },
  {
   "cell_type": "code",
   "execution_count": 64,
   "metadata": {},
   "outputs": [
    {
     "data": {
      "text/plain": [
       "array([[1, 0],\n",
       "       [2, 1]])"
      ]
     },
     "execution_count": 64,
     "metadata": {},
     "output_type": "execute_result"
    }
   ],
   "source": [
    "from numpy.linalg import inv\n",
    "a = np.array([[1, 0], [2, 1]])\n",
    "a"
   ]
  },
  {
   "cell_type": "code",
   "execution_count": 65,
   "metadata": {},
   "outputs": [
    {
     "data": {
      "text/plain": [
       "array([[ 1.,  0.],\n",
       "       [-2.,  1.]])"
      ]
     },
     "execution_count": 65,
     "metadata": {},
     "output_type": "execute_result"
    }
   ],
   "source": [
    "inv(a)"
   ]
  },
  {
   "cell_type": "markdown",
   "metadata": {},
   "source": [
    "### 4) TRANSPOSE\n",
    "Returns a view of the array with axes transposed.\n",
    "\n",
    "#### Parameters:\t\n",
    "\n",
    "###### axes : None, tuple of ints, or n ints\n",
    "\n",
    "        None or no argument: reverses the order of the axes.\n",
    "        tuple of ints: i in the j-th place in the tuple means a‘s i-th axis becomes a.transpose()‘s j-th axis.\n",
    "        n ints: same as an n-tuple of the same ints (this form is intended simply as a “convenience” alternative to the tuple form)\n",
    "\n",
    "#### Returns:\t\n",
    "\n",
    "###### out : ndarray\n",
    "\n",
    "    View of a, with axes suitably permuted.\n"
   ]
  },
  {
   "cell_type": "code",
   "execution_count": 67,
   "metadata": {},
   "outputs": [],
   "source": [
    "a = np.array([[1, 2], [3, 4]])"
   ]
  },
  {
   "cell_type": "code",
   "execution_count": 68,
   "metadata": {},
   "outputs": [
    {
     "data": {
      "text/plain": [
       "array([[1, 2],\n",
       "       [3, 4]])"
      ]
     },
     "execution_count": 68,
     "metadata": {},
     "output_type": "execute_result"
    }
   ],
   "source": [
    "a"
   ]
  },
  {
   "cell_type": "code",
   "execution_count": 69,
   "metadata": {},
   "outputs": [
    {
     "data": {
      "text/plain": [
       "array([[1, 3],\n",
       "       [2, 4]])"
      ]
     },
     "execution_count": 69,
     "metadata": {},
     "output_type": "execute_result"
    }
   ],
   "source": [
    " a.transpose()"
   ]
  },
  {
   "cell_type": "markdown",
   "metadata": {},
   "source": [
    "### Question 4: Why everything in Python is an object?"
   ]
  },
  {
   "cell_type": "markdown",
   "metadata": {},
   "source": [
    "* In Python, pretty much everything is an object, whether it is a number, a function… or even None.\n",
    "* Python is using a pure object model where classes are instances of a meta-class “type” (in Python, the terms “type” and “class” are synonyms). And “type” is the only class which is an instance of itself\n",
    "* This object model can be useful when we want information about a particular resource in Python. Except for the Python keywords (e.g. if, def, globals), using “type(<name>)” or “dir(<name>)” -or just type the resource name and press enter- will work on pretty much anything.\n",
    "        "
   ]
  },
  {
   "cell_type": "markdown",
   "metadata": {},
   "source": [
    "### Question 5: Functionality of np.newaxis\n",
    "\n",
    "he newaxis expression is used to increase the dimension of the existing array by one more dimension, when used once. Thus,\n",
    "\n",
    "    * 1D array will become 2D array\n",
    "    * 2D array will become 3D array\n",
    "    * 3D array will become 4D array\n",
    "\n",
    "and so on. "
   ]
  },
  {
   "cell_type": "code",
   "execution_count": 70,
   "metadata": {},
   "outputs": [
    {
     "data": {
      "text/plain": [
       "(4,)"
      ]
     },
     "execution_count": 70,
     "metadata": {},
     "output_type": "execute_result"
    }
   ],
   "source": [
    "# 1D array\n",
    "arr = np.arange(4)\n",
    "arr.shape"
   ]
  },
  {
   "cell_type": "code",
   "execution_count": 71,
   "metadata": {},
   "outputs": [
    {
     "data": {
      "text/plain": [
       "(1, 4)"
      ]
     },
     "execution_count": 71,
     "metadata": {},
     "output_type": "execute_result"
    }
   ],
   "source": [
    "# make it as row vector by inserting an axis along first dimension\n",
    "row_vec = arr[np.newaxis, :]\n",
    "row_vec.shape\n",
    "\n"
   ]
  },
  {
   "cell_type": "code",
   "execution_count": 72,
   "metadata": {},
   "outputs": [
    {
     "data": {
      "text/plain": [
       "(4, 1)"
      ]
     },
     "execution_count": 72,
     "metadata": {},
     "output_type": "execute_result"
    }
   ],
   "source": [
    "# make it as column vector by inserting an axis along second dimension\n",
    "col_vec = arr[:, np.newaxis]\n",
    "col_vec.shape\n"
   ]
  },
  {
   "cell_type": "code",
   "execution_count": null,
   "metadata": {},
   "outputs": [],
   "source": []
  }
 ],
 "metadata": {
  "kernelspec": {
   "display_name": "Python 3",
   "language": "python",
   "name": "python3"
  },
  "language_info": {
   "codemirror_mode": {
    "name": "ipython",
    "version": 3
   },
   "file_extension": ".py",
   "mimetype": "text/x-python",
   "name": "python",
   "nbconvert_exporter": "python",
   "pygments_lexer": "ipython3",
   "version": "3.6.5"
  }
 },
 "nbformat": 4,
 "nbformat_minor": 2
}
